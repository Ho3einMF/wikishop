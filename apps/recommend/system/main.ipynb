{
 "cells": [
  {
   "cell_type": "markdown",
   "metadata": {
    "pycharm": {
     "name": "#%% md\n"
    }
   },
   "source": [
    "### Import Libraries"
   ]
  },
  {
   "cell_type": "code",
   "execution_count": 2,
   "metadata": {
    "pycharm": {
     "name": "#%%\n"
    }
   },
   "outputs": [],
   "source": [
    "import pandas as pd\n",
    "import numpy as np\n",
    "\n",
    "from lightfm.data import Dataset\n",
    "from lightfm import LightFM\n",
    "from lightfm.evaluation import precision_at_k\n",
    "\n",
    "from tabulate import tabulate\n",
    "\n",
    "from scipy.sparse import csr_matrix\n",
    "from sklearn.metrics.pairwise import cosine_similarity\n",
    "\n",
    "import pickle"
   ]
  },
  {
   "cell_type": "markdown",
   "metadata": {
    "pycharm": {
     "name": "#%% md\n"
    }
   },
   "source": [
    "### Read Data"
   ]
  },
  {
   "cell_type": "code",
   "execution_count": 2,
   "metadata": {
    "pycharm": {
     "name": "#%%\n"
    }
   },
   "outputs": [],
   "source": [
    "score = pd.read_csv('data/score.csv')\n",
    "score.drop(['Unnamed: 0', 'id'], axis='columns', inplace=True)"
   ]
  },
  {
   "cell_type": "code",
   "execution_count": 3,
   "metadata": {
    "pycharm": {
     "name": "#%%\n"
    }
   },
   "outputs": [],
   "source": [
    "post = pd.read_csv('data/post.csv')\n",
    "post.drop(['Unnamed: 0'], axis='columns', inplace=True)"
   ]
  },
  {
   "cell_type": "code",
   "execution_count": 4,
   "metadata": {
    "pycharm": {
     "name": "#%%\n"
    }
   },
   "outputs": [],
   "source": [
    "category = pd.read_csv('data/category.csv')\n",
    "category.drop(['Unnamed: 0'], axis='columns', inplace=True)"
   ]
  },
  {
   "cell_type": "code",
   "execution_count": 5,
   "metadata": {
    "pycharm": {
     "name": "#%%\n"
    }
   },
   "outputs": [],
   "source": [
    "user = pd.read_csv('data/user.csv')\n",
    "user.drop(['Unnamed: 0'], axis='columns', inplace=True)\n",
    "# user.drop(0, axis='rows', inplace=True)"
   ]
  },
  {
   "cell_type": "markdown",
   "metadata": {
    "pycharm": {
     "name": "#%% md\n"
    }
   },
   "source": [
    "### LightFM (Recommendation Items)"
   ]
  },
  {
   "cell_type": "code",
   "execution_count": 6,
   "metadata": {
    "pycharm": {
     "name": "#%%\n"
    }
   },
   "outputs": [],
   "source": [
    "users_ids = user['id'].unique()\n",
    "posts_ids = post['id'].unique()\n",
    "\n",
    "dataset = Dataset()\n",
    "dataset.fit(users=users_ids, items=posts_ids)"
   ]
  },
  {
   "cell_type": "code",
   "execution_count": 7,
   "metadata": {
    "pycharm": {
     "name": "#%%\n"
    }
   },
   "outputs": [],
   "source": [
    "(user_id_map, user_feature_map, item_id_map, item_feature_map) = dataset.mapping()"
   ]
  },
  {
   "cell_type": "code",
   "execution_count": 8,
   "metadata": {
    "pycharm": {
     "name": "#%%\n"
    }
   },
   "outputs": [
    {
     "data": {
      "text/plain": [
       "<1001x50000 sparse matrix of type '<class 'numpy.int32'>'\n",
       "\twith 40000 stored elements in COOrdinate format>"
      ]
     },
     "execution_count": 8,
     "metadata": {},
     "output_type": "execute_result"
    }
   ],
   "source": [
    "def get_data():\n",
    "    data = []\n",
    "    df = score[['user__id', 'post__id', 'score']]\n",
    "    for row in df.itertuples():\n",
    "        data.append((row[1], row[2], row[3]))\n",
    "    return data\n",
    "\n",
    "data = get_data()\n",
    "\n",
    "\n",
    "(interactions, weights) = dataset.build_interactions(data=data)\n",
    "\n",
    "interactions"
   ]
  },
  {
   "cell_type": "code",
   "execution_count": 9,
   "metadata": {
    "pycharm": {
     "name": "#%%\n"
    }
   },
   "outputs": [
    {
     "data": {
      "text/plain": [
       "<lightfm.lightfm.LightFM at 0x7ff405f68250>"
      ]
     },
     "execution_count": 9,
     "metadata": {},
     "output_type": "execute_result"
    }
   ],
   "source": [
    "# %%time\n",
    "model = LightFM(loss='warp')\n",
    "model.fit(interactions=interactions, epochs=30, num_threads=2)"
   ]
  },
  {
   "cell_type": "code",
   "execution_count": 10,
   "metadata": {
    "pycharm": {
     "name": "#%%\n"
    }
   },
   "outputs": [
    {
     "name": "stdout",
     "output_type": "stream",
     "text": [
      "Precision: 0.91\n"
     ]
    }
   ],
   "source": [
    "print(\"Precision: %.2f\" % precision_at_k(model, interactions, k=5).mean())"
   ]
  },
  {
   "cell_type": "code",
   "execution_count": 11,
   "metadata": {
    "pycharm": {
     "name": "#%%\n"
    }
   },
   "outputs": [],
   "source": [
    "def get_top_k_known_positive_items(user_id, top_k, interactions, user_id_map, item_id_map):\n",
    "\n",
    "    # use tocsr function to iterate spares matrix\n",
    "    known_positives_model_ids = [\n",
    "        interactions.tocsr()[list(user_id_map).index(user_id)].indices]\n",
    "\n",
    "    # mapping to item ids\n",
    "    known_positives_ids = [list(item_id_map)[id]\n",
    "                           for id in known_positives_model_ids[0]]\n",
    "\n",
    "    # find items by ids\n",
    "    known_positive_items = post[['id', 'title', 'category__id']][post['id'].isin(known_positives_ids)]\n",
    "\n",
    "    return known_positive_items[0:top_k]"
   ]
  },
  {
   "cell_type": "code",
   "execution_count": 12,
   "metadata": {
    "pycharm": {
     "name": "#%%\n"
    }
   },
   "outputs": [],
   "source": [
    "def get_top_k_items(user_id, top_k, model, interactions, user_id_map):\n",
    "    n_users, n_items = interactions.shape\n",
    "    scores = model.predict(user_id_map[user_id], np.arange(n_items))\n",
    "    top_items_model_ids = np.argsort(-scores)[:top_k]\n",
    "    top_items = post.loc[top_items_model_ids]  # searching by ids of model not real ids of posts\n",
    "    return top_items[['id', 'title', 'category__id']]"
   ]
  },
  {
   "cell_type": "code",
   "execution_count": 13,
   "metadata": {
    "pycharm": {
     "name": "#%%\n"
    }
   },
   "outputs": [],
   "source": [
    "def sample_recommendation(model, interactions, user_ids):\n",
    "\n",
    "    for user_id in user_ids:\n",
    "        known_positives_items = get_top_k_known_positive_items(user_id=user_id,\n",
    "                                                               top_k=5,\n",
    "                                                               interactions=interactions,\n",
    "                                                               user_id_map=user_id_map,\n",
    "                                                               item_id_map=item_id_map)\n",
    "\n",
    "        top_k_items = get_top_k_items(user_id=user_id, top_k=5,\n",
    "                                    model=model, interactions=interactions)\n",
    "\n",
    "        print(f\"User id: {user_id}\", end='\\n\\n')\n",
    "        \n",
    "        print(\"Known positives:\")\n",
    "        print(tabulate(known_positives_items, headers='keys', tablefmt='github'), end='\\n\\n')\n",
    "\n",
    "        print(\"Recommended:\")\n",
    "        print(tabulate(top_k_items, headers='keys', tablefmt='github'))\n"
   ]
  },
  {
   "cell_type": "code",
   "execution_count": 14,
   "metadata": {
    "pycharm": {
     "name": "#%%\n"
    }
   },
   "outputs": [
    {
     "name": "stdout",
     "output_type": "stream",
     "text": [
      "User id: 800\n",
      "\n",
      "Known positives:\n",
      "|      |   id | title                   |   category__id |\n",
      "|------|------|-------------------------|----------------|\n",
      "|   82 | 1323 | Dunlap, Moran and Brown |            540 |\n",
      "| 1083 | 2324 | Caldwell and Sons       |            541 |\n",
      "| 2084 | 3325 | Silva LLC               |            542 |\n",
      "| 3085 | 4326 | Morton-Mathis           |            543 |\n",
      "| 4086 | 5327 | Thomas-Jackson          |            544 |\n",
      "\n",
      "Recommended:\n",
      "|       |    id | title                         |   category__id |\n",
      "|-------|-------|-------------------------------|----------------|\n",
      "|    82 |  1323 | Dunlap, Moran and Brown       |            540 |\n",
      "|  9091 | 10332 | Miller-Bridges                |            539 |\n",
      "| 13132 | 14373 | Cabrera, Johnson and Jennings |            540 |\n",
      "| 32114 | 33355 | Weaver and Sons               |            542 |\n",
      "|  6088 |  7329 | Russo-Zimmerman               |            546 |\n"
     ]
    }
   ],
   "source": [
    "sample_recommendation(model=model, interactions=interactions,\n",
    "                      user_ids=[800])\n"
   ]
  },
  {
   "cell_type": "markdown",
   "metadata": {
    "pycharm": {
     "name": "#%% md\n"
    }
   },
   "source": [
    "### Cosine Similarity (Similar Items)"
   ]
  },
  {
   "cell_type": "code",
   "execution_count": 23,
   "metadata": {
    "pycharm": {
     "name": "#%%\n"
    }
   },
   "outputs": [],
   "source": [
    "def create_cosine_item_similarity_matrix(n_items, model):\n",
    "    item_embeddings_sparse_matrix = csr_matrix(model.item_embeddings[:n_items])\n",
    "    item_similarities_matrix = cosine_similarity(item_embeddings_sparse_matrix)\n",
    "    return item_similarities_matrix"
   ]
  },
  {
   "cell_type": "code",
   "execution_count": 24,
   "metadata": {
    "pycharm": {
     "name": "#%%\n"
    }
   },
   "outputs": [],
   "source": [
    "item_similarities_matrix = create_cosine_item_similarity_matrix(10000, model)\n",
    "\n",
    "def get_top_k_similar_items(item_id, top_k, item_similarities_matrix):\n",
    "    item_similarities_df = pd.DataFrame(item_similarities_matrix)\n",
    "    similar_items_model_ids = np.argsort(\n",
    "        -item_similarities_df[list(item_id_map.keys()).index(item_id)])[0:top_k + 1]\n",
    "    top_k_similar_items = post[['id', 'title', 'category__id']].loc[similar_items_model_ids]\n",
    "    return top_k_similar_items"
   ]
  },
  {
   "cell_type": "code",
   "execution_count": 25,
   "metadata": {
    "pycharm": {
     "name": "#%%\n"
    }
   },
   "outputs": [
    {
     "data": {
      "text/html": [
       "<div>\n",
       "<style scoped>\n",
       "    .dataframe tbody tr th:only-of-type {\n",
       "        vertical-align: middle;\n",
       "    }\n",
       "\n",
       "    .dataframe tbody tr th {\n",
       "        vertical-align: top;\n",
       "    }\n",
       "\n",
       "    .dataframe thead th {\n",
       "        text-align: right;\n",
       "    }\n",
       "</style>\n",
       "<table border=\"1\" class=\"dataframe\">\n",
       "  <thead>\n",
       "    <tr style=\"text-align: right;\">\n",
       "      <th></th>\n",
       "      <th>id</th>\n",
       "      <th>title</th>\n",
       "      <th>category__id</th>\n",
       "    </tr>\n",
       "  </thead>\n",
       "  <tbody>\n",
       "    <tr>\n",
       "      <th>1459</th>\n",
       "      <td>2700</td>\n",
       "      <td>Swanson Ltd</td>\n",
       "      <td>547</td>\n",
       "    </tr>\n",
       "    <tr>\n",
       "      <th>4462</th>\n",
       "      <td>5703</td>\n",
       "      <td>Scott, Gordon and Dickerson</td>\n",
       "      <td>540</td>\n",
       "    </tr>\n",
       "    <tr>\n",
       "      <th>9467</th>\n",
       "      <td>10708</td>\n",
       "      <td>Mccann-Martin</td>\n",
       "      <td>545</td>\n",
       "    </tr>\n",
       "    <tr>\n",
       "      <th>5463</th>\n",
       "      <td>6704</td>\n",
       "      <td>Harrell-Young</td>\n",
       "      <td>541</td>\n",
       "    </tr>\n",
       "    <tr>\n",
       "      <th>425</th>\n",
       "      <td>1666</td>\n",
       "      <td>Stewart, Garcia and Bright</td>\n",
       "      <td>543</td>\n",
       "    </tr>\n",
       "    <tr>\n",
       "      <th>2460</th>\n",
       "      <td>3701</td>\n",
       "      <td>Dudley and Sons</td>\n",
       "      <td>538</td>\n",
       "    </tr>\n",
       "  </tbody>\n",
       "</table>\n",
       "</div>"
      ],
      "text/plain": [
       "         id                        title  category__id\n",
       "1459   2700                  Swanson Ltd           547\n",
       "4462   5703  Scott, Gordon and Dickerson           540\n",
       "9467  10708                Mccann-Martin           545\n",
       "5463   6704                Harrell-Young           541\n",
       "425    1666   Stewart, Garcia and Bright           543\n",
       "2460   3701              Dudley and Sons           538"
      ]
     },
     "execution_count": 25,
     "metadata": {},
     "output_type": "execute_result"
    }
   ],
   "source": [
    "get_top_k_similar_items(2700, 5, item_similarities_matrix)"
   ]
  },
  {
   "attachments": {},
   "cell_type": "markdown",
   "metadata": {
    "pycharm": {
     "name": "#%% md\n"
    }
   },
   "source": [
    "### Save Model"
   ]
  },
  {
   "cell_type": "code",
   "execution_count": null,
   "outputs": [],
   "source": [
    "with open('recommendation_model.pickle', 'wb') as file:\n",
    "    pickle.dump(model, file)"
   ],
   "metadata": {
    "collapsed": false,
    "pycharm": {
     "name": "#%%\n"
    }
   }
  },
  {
   "cell_type": "markdown",
   "source": [
    "### Load Model"
   ],
   "metadata": {
    "collapsed": false,
    "pycharm": {
     "name": "#%% md\n"
    }
   }
  },
  {
   "cell_type": "code",
   "execution_count": null,
   "outputs": [],
   "source": [
    "with open('recommendation_model.pickle', 'rb') as file:\n",
    "    loaded_model = pickle.load(file)\n",
    "\n",
    "sample_recommendation(model=loaded_model, interactions=interactions, user_ids=[800])\n"
   ],
   "metadata": {
    "collapsed": false,
    "pycharm": {
     "name": "#%%\n"
    }
   }
  },
  {
   "cell_type": "markdown",
   "source": [
    "### Save Dataset (for using id mapping)"
   ],
   "metadata": {
    "collapsed": false,
    "pycharm": {
     "name": "#%% md\n"
    }
   }
  },
  {
   "cell_type": "code",
   "execution_count": null,
   "outputs": [],
   "source": [
    "with open('dataset.pickle', 'wb') as file:\n",
    "    pickle.dump(dataset, file)"
   ],
   "metadata": {
    "collapsed": false,
    "pycharm": {
     "name": "#%%\n"
    }
   }
  },
  {
   "cell_type": "markdown",
   "source": [
    "### Load Dataset"
   ],
   "metadata": {
    "collapsed": false,
    "pycharm": {
     "name": "#%% md\n"
    }
   }
  },
  {
   "cell_type": "code",
   "execution_count": null,
   "outputs": [],
   "source": [
    "with open('dataset.pickle', 'rb') as file:\n",
    "    loaded_dataset = pickle.load(file)\n",
    "\n",
    "loaded_dataset"
   ],
   "metadata": {
    "collapsed": false,
    "pycharm": {
     "name": "#%%\n"
    }
   }
  },
  {
   "cell_type": "markdown",
   "source": [
    "### Save Interactions Matrix"
   ],
   "metadata": {
    "collapsed": false,
    "pycharm": {
     "name": "#%% md\n"
    }
   }
  },
  {
   "cell_type": "code",
   "execution_count": null,
   "outputs": [],
   "source": [
    "with open('interactions.pickle', 'wb') as file:\n",
    "    pickle.dump(interactions, file)"
   ],
   "metadata": {
    "collapsed": false,
    "pycharm": {
     "name": "#%%\n"
    }
   }
  },
  {
   "cell_type": "markdown",
   "source": [],
   "metadata": {
    "collapsed": false,
    "pycharm": {
     "name": "#%% md\n"
    }
   }
  },
  {
   "cell_type": "code",
   "execution_count": null,
   "outputs": [],
   "source": [
    "with open('interactions.pickle', 'rb') as file:\n",
    "    loaded_interactions = pickle.load(file)\n",
    "\n",
    "loaded_interactions"
   ],
   "metadata": {
    "collapsed": false,
    "pycharm": {
     "name": "#%%\n"
    }
   }
  },
  {
   "attachments": {},
   "cell_type": "markdown",
   "metadata": {
    "pycharm": {
     "name": "#%% md\n"
    }
   },
   "source": [
    "### Save Dataset (for using id mapping)"
   ]
  },
  {
   "cell_type": "code",
   "execution_count": 8,
   "metadata": {
    "pycharm": {
     "name": "#%%\n"
    }
   },
   "outputs": [],
   "source": [
    "with open('dataset.pickle', 'wb') as file:\n",
    "    pickle.dump(dataset, file)"
   ]
  },
  {
   "attachments": {},
   "cell_type": "markdown",
   "metadata": {
    "pycharm": {
     "name": "#%% md\n"
    }
   },
   "source": [
    "### Load Dataset"
   ]
  },
  {
   "cell_type": "code",
   "execution_count": 11,
   "metadata": {
    "pycharm": {
     "name": "#%%\n"
    }
   },
   "outputs": [
    {
     "data": {
      "text/plain": [
       "<lightfm.data.Dataset at 0x7fbd6eb0e670>"
      ]
     },
     "execution_count": 11,
     "metadata": {},
     "output_type": "execute_result"
    }
   ],
   "source": [
    "with open('dataset.pickle', 'rb') as file:\n",
    "    loaded_dataset = pickle.load(file)\n",
    "\n",
    "loaded_dataset"
   ]
  },
  {
   "cell_type": "markdown",
   "source": [],
   "metadata": {
    "collapsed": false,
    "pycharm": {
     "name": "#%% md\n"
    }
   }
  },
  {
   "cell_type": "markdown",
   "source": [
    "### Save Cosine Item Similarity Matrix (for similar items)"
   ],
   "metadata": {
    "collapsed": false,
    "pycharm": {
     "name": "#%% md\n"
    }
   }
  },
  {
   "cell_type": "code",
   "execution_count": null,
   "outputs": [],
   "source": [
    "with open('item_similarity_matrix.pickle', 'wb') as file:\n",
    "    pickle.dump(item_similarities_matrix, file)"
   ],
   "metadata": {
    "collapsed": false,
    "pycharm": {
     "name": "#%%\n"
    }
   }
  },
  {
   "cell_type": "markdown",
   "source": [],
   "metadata": {
    "collapsed": false,
    "pycharm": {
     "name": "#%% md\n"
    }
   }
  },
  {
   "cell_type": "code",
   "execution_count": null,
   "outputs": [],
   "source": [
    "with open('item_similarity_matrix.pickle', 'rb') as file:\n",
    "    loaded_item_similarity_matrix = pickle.load(file)\n",
    "\n",
    "loaded_item_similarity_matrix"
   ],
   "metadata": {
    "collapsed": false,
    "pycharm": {
     "name": "#%%\n"
    }
   }
  }
 ],
 "metadata": {
  "kernelspec": {
   "display_name": "Python 3.8.14 ('venv': venv)",
   "language": "python",
   "name": "python3"
  },
  "language_info": {
   "codemirror_mode": {
    "name": "ipython",
    "version": 3
   },
   "file_extension": ".py",
   "mimetype": "text/x-python",
   "name": "python",
   "nbconvert_exporter": "python",
   "pygments_lexer": "ipython3",
   "version": "3.8.14"
  },
  "orig_nbformat": 4,
  "vscode": {
   "interpreter": {
    "hash": "b9e70ab1028040fc4cbc1675095b67b9f5f30e7d2d6d1f3b17c768ffd1dff8c3"
   }
  }
 },
 "nbformat": 4,
 "nbformat_minor": 2
}